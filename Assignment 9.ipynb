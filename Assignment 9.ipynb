{
 "cells": [
  {
   "cell_type": "code",
   "execution_count": null,
   "id": "2691d3da",
   "metadata": {},
   "outputs": [],
   "source": [
    "1. To what does a relative path refer?\n",
    "\n",
    "A relative path refers to a location that is relative to a current directory. \n",
    "Relative paths make use of two special symbols, a dot (.) and a double-dot (..), \n",
    "which translate into the current directory and the parent directory. Double dots are used for moving up in the hierarchy.\n"
   ]
  },
  {
   "cell_type": "code",
   "execution_count": null,
   "id": "87dd91b4",
   "metadata": {},
   "outputs": [],
   "source": [
    "2. What does an absolute path start with your operating system?\n",
    "\n",
    "An absolute path is a path that contains the entire path to the file or directory that you need to access. \n",
    "This path will begin at the home directory of your computer and will end with the file or directory that you wish to access.\n"
   ]
  },
  {
   "cell_type": "code",
   "execution_count": null,
   "id": "a7d33f44",
   "metadata": {},
   "outputs": [],
   "source": [
    "3. What do the functions os.getcwd() and os.chdir() do?\n",
    "\n",
    "os.chdir() method in Python used to change the current working directory to specified path. \n",
    "It takes only a single argument as new directory path.\n",
    "\n",
    "The getcwd() function returns the current working directory.\n"
   ]
  },
  {
   "cell_type": "code",
   "execution_count": null,
   "id": "571af261",
   "metadata": {},
   "outputs": [],
   "source": [
    "4. What are the . and .. folders?\n",
    "\n",
    "The first entry is a dot ( . ). It represents the current directory. The second entry, the double dot ( .. ), \n",
    "represents the directory that contains the current directory. This is referred to as the parent directory.\n"
   ]
  },
  {
   "cell_type": "code",
   "execution_count": null,
   "id": "6a041615",
   "metadata": {},
   "outputs": [],
   "source": [
    "5. In C:\\bacon\\eggs\\spam.txt, which part is the dir name, and which part is the base name?\n",
    "    \n",
    "C:\\bacon\\eggs is the dir name, while spam. txt is the base name. \n",
    "An existing file opened in write mode is erased and completely overwritten.    \n"
   ]
  },
  {
   "cell_type": "code",
   "execution_count": null,
   "id": "7177e8e5",
   "metadata": {},
   "outputs": [],
   "source": [
    "6. What are the three “mode” arguments that can be passed to the open() function?\n",
    "\n",
    "r : Opens the file in read-only mode. ...\n",
    "rb : Opens the file as read-only in binary format and starts reading from the beginning of the file. ...\n",
    "r+ : Opens a file for reading and writing, placing the pointer at the beginning of the file.\n",
    "    "
   ]
  },
  {
   "cell_type": "code",
   "execution_count": null,
   "id": "a64dca2f",
   "metadata": {},
   "outputs": [],
   "source": [
    "7. What happens if an existing file is opened in write mode?\n",
    "\n",
    "If a file with the same name already exists, its contents are discarded and the file is treated as a new empty file.\n"
   ]
  },
  {
   "cell_type": "code",
   "execution_count": null,
   "id": "dc303214",
   "metadata": {},
   "outputs": [],
   "source": [
    "8. How do you tell the difference between read() and readlines()?\n",
    "\n",
    "The read() will read the whole file at once and then print out the first characters that take up as many bytes as \n",
    "you specify in the parenthesis versus the readline() that will read and print out only the first characters that \n",
    "take up as many bytes as you specify in the parenthesis.\n"
   ]
  },
  {
   "cell_type": "code",
   "execution_count": null,
   "id": "e9035527",
   "metadata": {},
   "outputs": [],
   "source": [
    "9. What data structure does a shelf value resemble?\n",
    "\n",
    "A shelf value resembles a dictionary value; it has keys and values, along with keys() \n",
    "and values() methods that work similarly to the dictionary methods of the same names.\n"
   ]
  }
 ],
 "metadata": {
  "kernelspec": {
   "display_name": "Python 3",
   "language": "python",
   "name": "python3"
  },
  "language_info": {
   "codemirror_mode": {
    "name": "ipython",
    "version": 3
   },
   "file_extension": ".py",
   "mimetype": "text/x-python",
   "name": "python",
   "nbconvert_exporter": "python",
   "pygments_lexer": "ipython3",
   "version": "3.8.8"
  }
 },
 "nbformat": 4,
 "nbformat_minor": 5
}
